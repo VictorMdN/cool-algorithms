{
 "cells": [
  {
   "cell_type": "code",
   "execution_count": 1,
   "metadata": {},
   "outputs": [],
   "source": [
    "# Dumb Game of Life :)\n",
    "\n",
    "# RULES:\n",
    "# For a space that is 'populated':\n",
    "#     Each cell with one or no neighbors dies, as if by solitude.\n",
    "#     Each cell with four or more neighbors dies, as if by overpopulation.\n",
    "#     Each cell with two or three neighbors survives.\n",
    "\n",
    "# For a space that is 'empty' or 'unpopulated'\n",
    "#     Each cell with three neighbors becomes populated."
   ]
  },
  {
   "cell_type": "code",
   "execution_count": 2,
   "metadata": {},
   "outputs": [],
   "source": [
    "import numpy as np\n",
    "import matplotlib.pyplot as plt\n",
    "from IPython.display import HTML\n",
    "import matplotlib.animation as animation"
   ]
  },
  {
   "cell_type": "code",
   "execution_count": 3,
   "metadata": {},
   "outputs": [],
   "source": [
    "def next_board(m):\n",
    "    r = m.copy()\n",
    "    for i in range(len(m)):\n",
    "        for j in range(len(m[i])):\n",
    "            pi = i-1\n",
    "            pj = j-1\n",
    "            si = i+1 if i+1 < len(m) else 0\n",
    "            sj = j+1 if j+1 < len(m[i]) else 0\n",
    "\n",
    "            neighbor_indexes = [(pi,pj),(pi,j),(pi,sj),\n",
    "                                (i,pj),        (i,sj),\n",
    "                                (si,pj),(si,j),(si,sj)]\n",
    "            neighbor_values = [m[i][j] for i,j in neighbor_indexes]\n",
    "            neighbor_counts = neighbor_values.count(1)\n",
    "            if m[i][j] == 0:\n",
    "                if neighbor_counts == 3:\n",
    "                    r[i][j] = 1\n",
    "            else:\n",
    "                if neighbor_counts < 2:\n",
    "                    r[i][j] = 0\n",
    "                elif neighbor_counts < 4:\n",
    "                    pass\n",
    "                else:\n",
    "                    r[i][j] = 0\n",
    "    return r"
   ]
  },
  {
   "cell_type": "code",
   "execution_count": 4,
   "metadata": {},
   "outputs": [
    {
     "data": {
      "image/png": "[encoded data removed]",
      "text/plain": [
       "<Figure size 432x288 with 1 Axes>"
      ]
     },
     "metadata": {
      "needs_background": "light"
     },
     "output_type": "display_data"
    }
   ],
   "source": [
    "if __name__ == '__main__':\n",
    "    m = np.zeros((50,50))\n",
    "    \n",
    "    # glider\n",
    "    x,y = 5,5\n",
    "    m[y][x-1] = 1\n",
    "    m[y][x] = 1\n",
    "    m[y][x+1] = 1\n",
    "    m[y-1][x+1] = 1\n",
    "    m[y-2][x] = 1\n",
    "    \n",
    "    fig, ax = plt.subplots()\n",
    "    \n",
    "    def animate(i):\n",
    "        global m\n",
    "        if i != 0:\n",
    "            ax.clear()\n",
    "            m = next_board(m)\n",
    "        ax.imshow(m)\n",
    "        ax.text(45,45,i,fontdict={'color':  'white'})\n",
    "\n",
    "    ani = animation.FuncAnimation(fig,animate,interval=100)"
   ]
  },
  {
   "cell_type": "code",
   "execution_count": null,
   "metadata": {},
   "outputs": [],
   "source": [
    "HTML(ani.to_html5_video())"
   ]
  }
 ],
 "metadata": {
  "kernelspec": {
   "display_name": "Python 3",
   "language": "python",
   "name": "python3"
  },
  "language_info": {
   "codemirror_mode": {
    "name": "ipython",
    "version": 3
   },
   "file_extension": ".py",
   "mimetype": "text/x-python",
   "name": "python",
   "nbconvert_exporter": "python",
   "pygments_lexer": "ipython3",
   "version": "3.7.4"
  }
 },
 "nbformat": 4,
 "nbformat_minor": 2
}
